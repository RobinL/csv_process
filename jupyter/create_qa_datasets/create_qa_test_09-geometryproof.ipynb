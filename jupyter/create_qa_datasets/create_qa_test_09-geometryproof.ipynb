{
 "cells": [
  {
   "cell_type": "markdown",
   "metadata": {},
   "source": [
    "# Test name: qa_test_09\n",
    "\n",
    "##### Reason for test:  \n",
    "To test more complicated distributions where there are three supply points and demand points in a ring surrounding it - in this case the top two supplies can only support three demand points leaving the others to be redistributed to the final bottom suppliy which is large enough to take on the extra demand.\n",
    "\n",
    "##### Parameters\n",
    "\n",
    "Three supplies - vertically aligned - 150km apart\n",
    "\n",
    "8 demands for each supply - in an even circle - a fixed distance away (50km)\n",
    "\n",
    "Capacities - A - supply capable of sustaining 3 demand points, B - supply capable of sustaining 3 demand points, C - supply capable of sustaining 18 demand points.\n",
    "\n",
    "##### Predicted outcome:\n",
    "For the top supply (A) - the three top most demands should be attached to it. The two demands horizontally aligned with supply A plus the bottom left diagonal demand should all attach to supply B. All other demands should attach to supply C (2 from the demands surround A and all of the demands surrounding B and C).\n",
    "\n",
    "This is based on the logic of minimising any single large distances in favour of having less of the shortest distances.\n"
   ]
  },
  {
   "cell_type": "code",
   "execution_count": 5,
   "metadata": {
    "collapsed": false
   },
   "outputs": [],
   "source": [
    "import pandas as pd\n",
    "import psycopg2\n",
    "import random\n",
    "import os\n",
    "from utilities import generate_point_dict \n",
    "from utilities import locate_supplies\n",
    "from utilities import calculate_distances\n",
    "dir = os.getcwd()\n",
    "parent_directory = os.path.split(os.path.split(dir)[0])[0]"
   ]
  },
  {
   "cell_type": "markdown",
   "metadata": {},
   "source": [
    "An example of what the csv data should look like (see column naming)"
   ]
  },
  {
   "cell_type": "code",
   "execution_count": 6,
   "metadata": {
    "collapsed": false,
    "scrolled": false
   },
   "outputs": [
    {
     "data": {
      "text/html": [
       "<div>\n",
       "<table border=\"1\" class=\"dataframe\">\n",
       "  <thead>\n",
       "    <tr style=\"text-align: right;\">\n",
       "      <th></th>\n",
       "      <th>demand</th>\n",
       "      <th>demand_id</th>\n",
       "      <th>demand_lat</th>\n",
       "      <th>demand_lng</th>\n",
       "      <th>demand_name</th>\n",
       "      <th>supply</th>\n",
       "      <th>supply_id</th>\n",
       "      <th>supply_lat</th>\n",
       "      <th>supply_lng</th>\n",
       "      <th>supply_name</th>\n",
       "      <th>duration_min</th>\n",
       "      <th>distance_crowflies_km</th>\n",
       "      <th>distance_route_km</th>\n",
       "    </tr>\n",
       "  </thead>\n",
       "  <tbody>\n",
       "    <tr>\n",
       "      <th>0</th>\n",
       "      <td>11.662019</td>\n",
       "      <td>0</td>\n",
       "      <td>50.920128</td>\n",
       "      <td>-2.670739</td>\n",
       "      <td>Green Ln</td>\n",
       "      <td>35.689500</td>\n",
       "      <td>0</td>\n",
       "      <td>51.749314</td>\n",
       "      <td>-0.240863</td>\n",
       "      <td>Roehyde Way</td>\n",
       "      <td>158.883333</td>\n",
       "      <td>192.761855</td>\n",
       "      <td>235.458</td>\n",
       "    </tr>\n",
       "    <tr>\n",
       "      <th>1</th>\n",
       "      <td>11.662019</td>\n",
       "      <td>0</td>\n",
       "      <td>50.920128</td>\n",
       "      <td>-2.670739</td>\n",
       "      <td>Green Ln</td>\n",
       "      <td>28.249443</td>\n",
       "      <td>1</td>\n",
       "      <td>50.815128</td>\n",
       "      <td>-2.273901</td>\n",
       "      <td>Deer Park</td>\n",
       "      <td>48.433333</td>\n",
       "      <td>30.269113</td>\n",
       "      <td>50.560</td>\n",
       "    </tr>\n",
       "  </tbody>\n",
       "</table>\n",
       "</div>"
      ],
      "text/plain": [
       "      demand  demand_id  demand_lat  demand_lng demand_name     supply  \\\n",
       "0  11.662019          0   50.920128   -2.670739    Green Ln  35.689500   \n",
       "1  11.662019          0   50.920128   -2.670739    Green Ln  28.249443   \n",
       "\n",
       "   supply_id  supply_lat  supply_lng  supply_name  duration_min  \\\n",
       "0          0   51.749314   -0.240863  Roehyde Way    158.883333   \n",
       "1          1   50.815128   -2.273901    Deer Park     48.433333   \n",
       "\n",
       "   distance_crowflies_km  distance_route_km  \n",
       "0             192.761855            235.458  \n",
       "1              30.269113             50.560  "
      ]
     },
     "execution_count": 6,
     "metadata": {},
     "output_type": "execute_result"
    }
   ],
   "source": [
    "pd.read_csv(parent_directory + \"/web/data/datasets/data.csv\", nrows=2)"
   ]
  },
  {
   "cell_type": "markdown",
   "metadata": {},
   "source": [
    "The method for locating demands will change depending on the scenario and the locate_demands function may be different for each different test.\n",
    "\n",
    "Changed to only give demand points for the third supply out of the three"
   ]
  },
  {
   "cell_type": "code",
   "execution_count": 7,
   "metadata": {
    "collapsed": false
   },
   "outputs": [],
   "source": [
    "def locate_demands(supply_df, num_demands_per_supply, dem_distances_km, dem_bearings_degrees, demand_vol, conn):\n",
    "    demands = []\n",
    "    supply_counter = 0\n",
    "    \n",
    "    supply_dict = supply_df.to_dict(orient=\"records\")\n",
    "    this_supply = {\"lat\":supply_dict[2][\"supply_lat\"], \"lng\": supply_dict[2][\"supply_lng\"]}\n",
    "    for i in range(num_demands_per_supply):\n",
    "        distance_km = dem_distances_km[i]\n",
    "        bearing_degrees = dem_bearings_degrees[i]\n",
    "        this_demand = generate_point_dict(this_supply, bearing_degrees, distance_km, conn)\n",
    "        this_demand[\"demand\"] = random.choice(demand_vol)\n",
    "        this_demand[\"demand_name\"] = \"demand\" + str(supply_counter + i)\n",
    "        demands.append(this_demand)\n",
    "    supply_counter = supply_counter + num_demands_per_supply\n",
    "\n",
    "    demands_df = pd.DataFrame(demands).reset_index()\n",
    "    demands_df.columns=[\"demand_id\", \"demand\", \"demand_name\", \"demand_lat\", \"demand_lng\"]\n",
    "    return(demands_df)"
   ]
  },
  {
   "cell_type": "markdown",
   "metadata": {},
   "source": [
    "### Run from here to create a new test data set based on the parameters which can be changed below."
   ]
  },
  {
   "cell_type": "code",
   "execution_count": 8,
   "metadata": {
    "collapsed": true
   },
   "outputs": [],
   "source": [
    "# Naming parameters\n",
    "output_name = \"qa_data_09_geo_proof\"\n",
    "\n",
    "# Supply parameters\n",
    "num_supplies = 3\n",
    "sup_distances_km = [0, 150, 300]\n",
    "sup_bearings_degrees = [0, 0, 0]\n",
    "supply_vol = [100, 100, 0]\n",
    "\n",
    "# Demand parameters\n",
    "num_demands_per_supply = 2\n",
    "dem_distances_km = [50, 50]\n",
    "dem_bearings_degrees = [90, 135] # Demands will be taken at these exact degrees for each supply\n",
    "demand_vol = [100]\n",
    "\n",
    "# Misc\n",
    "scale = 1 # Used to scale demand to be a proportion of supply (1 by default)"
   ]
  },
  {
   "cell_type": "code",
   "execution_count": 9,
   "metadata": {
    "collapsed": false
   },
   "outputs": [],
   "source": [
    "conn = \"host='localhost' dbname='postgres' user='postgres' password=''\"\n",
    "conn = psycopg2.connect(conn)\n",
    "\n",
    "supply_df = locate_supplies(num_supplies, sup_distances_km, sup_bearings_degrees, supply_vol, conn)\n",
    "demands_df = locate_demands(supply_df, num_demands_per_supply, dem_distances_km, dem_bearings_degrees, demand_vol, conn)\n"
   ]
  },
  {
   "cell_type": "code",
   "execution_count": 10,
   "metadata": {
    "collapsed": false
   },
   "outputs": [
    {
     "data": {
      "text/html": [
       "<div>\n",
       "<table border=\"1\" class=\"dataframe\">\n",
       "  <thead>\n",
       "    <tr style=\"text-align: right;\">\n",
       "      <th></th>\n",
       "      <th>supply_id</th>\n",
       "      <th>supply_lat</th>\n",
       "      <th>supply_lng</th>\n",
       "      <th>supply</th>\n",
       "      <th>supply_name</th>\n",
       "    </tr>\n",
       "  </thead>\n",
       "  <tbody>\n",
       "    <tr>\n",
       "      <th>0</th>\n",
       "      <td>0</td>\n",
       "      <td>51.501109</td>\n",
       "      <td>-1.242375</td>\n",
       "      <td>100</td>\n",
       "      <td>supply0</td>\n",
       "    </tr>\n",
       "    <tr>\n",
       "      <th>1</th>\n",
       "      <td>1</td>\n",
       "      <td>52.849173</td>\n",
       "      <td>-1.242375</td>\n",
       "      <td>100</td>\n",
       "      <td>supply1</td>\n",
       "    </tr>\n",
       "    <tr>\n",
       "      <th>2</th>\n",
       "      <td>2</td>\n",
       "      <td>54.196930</td>\n",
       "      <td>-1.242375</td>\n",
       "      <td>0</td>\n",
       "      <td>supply2</td>\n",
       "    </tr>\n",
       "  </tbody>\n",
       "</table>\n",
       "</div>"
      ],
      "text/plain": [
       "   supply_id  supply_lat  supply_lng  supply supply_name\n",
       "0          0   51.501109   -1.242375     100     supply0\n",
       "1          1   52.849173   -1.242375     100     supply1\n",
       "2          2   54.196930   -1.242375       0     supply2"
      ]
     },
     "execution_count": 10,
     "metadata": {},
     "output_type": "execute_result"
    }
   ],
   "source": [
    "supply_df"
   ]
  },
  {
   "cell_type": "code",
   "execution_count": 11,
   "metadata": {
    "collapsed": false
   },
   "outputs": [
    {
     "data": {
      "text/html": [
       "<div>\n",
       "<table border=\"1\" class=\"dataframe\">\n",
       "  <thead>\n",
       "    <tr style=\"text-align: right;\">\n",
       "      <th></th>\n",
       "      <th>demand_id</th>\n",
       "      <th>demand</th>\n",
       "      <th>demand_name</th>\n",
       "      <th>demand_lat</th>\n",
       "      <th>demand_lng</th>\n",
       "    </tr>\n",
       "  </thead>\n",
       "  <tbody>\n",
       "    <tr>\n",
       "      <th>0</th>\n",
       "      <td>0</td>\n",
       "      <td>100</td>\n",
       "      <td>demand0</td>\n",
       "      <td>54.194494</td>\n",
       "      <td>-0.476308</td>\n",
       "    </tr>\n",
       "    <tr>\n",
       "      <th>1</th>\n",
       "      <td>1</td>\n",
       "      <td>100</td>\n",
       "      <td>demand1</td>\n",
       "      <td>53.878081</td>\n",
       "      <td>-0.704790</td>\n",
       "    </tr>\n",
       "  </tbody>\n",
       "</table>\n",
       "</div>"
      ],
      "text/plain": [
       "   demand_id  demand demand_name  demand_lat  demand_lng\n",
       "0          0     100     demand0   54.194494   -0.476308\n",
       "1          1     100     demand1   53.878081   -0.704790"
      ]
     },
     "execution_count": 11,
     "metadata": {},
     "output_type": "execute_result"
    }
   ],
   "source": [
    "demands_df"
   ]
  },
  {
   "cell_type": "code",
   "execution_count": 10,
   "metadata": {
    "collapsed": false
   },
   "outputs": [],
   "source": [
    "# Scale supply capacity so that supply>demand by \"scale\" (ONLY RUN IF SCALING REQUIRED)\n",
    "#supply_df[\"supply\"] = supply_df[\"supply\"]* demands_df[\"demand\"].sum()/supply_df[\"supply\"].sum()*scale"
   ]
  },
  {
   "cell_type": "code",
   "execution_count": 12,
   "metadata": {
    "collapsed": false
   },
   "outputs": [
    {
     "data": {
      "text/html": [
       "<div>\n",
       "<table border=\"1\" class=\"dataframe\">\n",
       "  <thead>\n",
       "    <tr style=\"text-align: right;\">\n",
       "      <th></th>\n",
       "      <th>demand_id</th>\n",
       "      <th>demand</th>\n",
       "      <th>demand_name</th>\n",
       "      <th>demand_lat</th>\n",
       "      <th>demand_lng</th>\n",
       "      <th>supply_id</th>\n",
       "      <th>supply_lat</th>\n",
       "      <th>supply_lng</th>\n",
       "      <th>supply</th>\n",
       "      <th>supply_name</th>\n",
       "    </tr>\n",
       "  </thead>\n",
       "  <tbody>\n",
       "    <tr>\n",
       "      <th>0</th>\n",
       "      <td>0</td>\n",
       "      <td>100</td>\n",
       "      <td>demand0</td>\n",
       "      <td>54.194494</td>\n",
       "      <td>-0.476308</td>\n",
       "      <td>0</td>\n",
       "      <td>51.501109</td>\n",
       "      <td>-1.242375</td>\n",
       "      <td>100</td>\n",
       "      <td>supply0</td>\n",
       "    </tr>\n",
       "    <tr>\n",
       "      <th>1</th>\n",
       "      <td>0</td>\n",
       "      <td>100</td>\n",
       "      <td>demand0</td>\n",
       "      <td>54.194494</td>\n",
       "      <td>-0.476308</td>\n",
       "      <td>1</td>\n",
       "      <td>52.849173</td>\n",
       "      <td>-1.242375</td>\n",
       "      <td>100</td>\n",
       "      <td>supply1</td>\n",
       "    </tr>\n",
       "    <tr>\n",
       "      <th>2</th>\n",
       "      <td>0</td>\n",
       "      <td>100</td>\n",
       "      <td>demand0</td>\n",
       "      <td>54.194494</td>\n",
       "      <td>-0.476308</td>\n",
       "      <td>2</td>\n",
       "      <td>54.196930</td>\n",
       "      <td>-1.242375</td>\n",
       "      <td>0</td>\n",
       "      <td>supply2</td>\n",
       "    </tr>\n",
       "    <tr>\n",
       "      <th>3</th>\n",
       "      <td>1</td>\n",
       "      <td>100</td>\n",
       "      <td>demand1</td>\n",
       "      <td>53.878081</td>\n",
       "      <td>-0.704790</td>\n",
       "      <td>0</td>\n",
       "      <td>51.501109</td>\n",
       "      <td>-1.242375</td>\n",
       "      <td>100</td>\n",
       "      <td>supply0</td>\n",
       "    </tr>\n",
       "    <tr>\n",
       "      <th>4</th>\n",
       "      <td>1</td>\n",
       "      <td>100</td>\n",
       "      <td>demand1</td>\n",
       "      <td>53.878081</td>\n",
       "      <td>-0.704790</td>\n",
       "      <td>1</td>\n",
       "      <td>52.849173</td>\n",
       "      <td>-1.242375</td>\n",
       "      <td>100</td>\n",
       "      <td>supply1</td>\n",
       "    </tr>\n",
       "    <tr>\n",
       "      <th>5</th>\n",
       "      <td>1</td>\n",
       "      <td>100</td>\n",
       "      <td>demand1</td>\n",
       "      <td>53.878081</td>\n",
       "      <td>-0.704790</td>\n",
       "      <td>2</td>\n",
       "      <td>54.196930</td>\n",
       "      <td>-1.242375</td>\n",
       "      <td>0</td>\n",
       "      <td>supply2</td>\n",
       "    </tr>\n",
       "  </tbody>\n",
       "</table>\n",
       "</div>"
      ],
      "text/plain": [
       "   demand_id  demand demand_name  demand_lat  demand_lng  supply_id  \\\n",
       "0          0     100     demand0   54.194494   -0.476308          0   \n",
       "1          0     100     demand0   54.194494   -0.476308          1   \n",
       "2          0     100     demand0   54.194494   -0.476308          2   \n",
       "3          1     100     demand1   53.878081   -0.704790          0   \n",
       "4          1     100     demand1   53.878081   -0.704790          1   \n",
       "5          1     100     demand1   53.878081   -0.704790          2   \n",
       "\n",
       "   supply_lat  supply_lng  supply supply_name  \n",
       "0   51.501109   -1.242375     100     supply0  \n",
       "1   52.849173   -1.242375     100     supply1  \n",
       "2   54.196930   -1.242375       0     supply2  \n",
       "3   51.501109   -1.242375     100     supply0  \n",
       "4   52.849173   -1.242375     100     supply1  \n",
       "5   54.196930   -1.242375       0     supply2  "
      ]
     },
     "execution_count": 12,
     "metadata": {},
     "output_type": "execute_result"
    }
   ],
   "source": [
    "# Cartestian product\n",
    "supply_df[\"cart\"] = 1\n",
    "demands_df[\"cart\"] = 1\n",
    "all_combos = demands_df.merge(supply_df)\n",
    "all_combos = all_combos.drop(\"cart\", axis=1)\n",
    "all_combos"
   ]
  },
  {
   "cell_type": "code",
   "execution_count": 13,
   "metadata": {
    "collapsed": false
   },
   "outputs": [
    {
     "data": {
      "text/html": [
       "<div>\n",
       "<table border=\"1\" class=\"dataframe\">\n",
       "  <thead>\n",
       "    <tr style=\"text-align: right;\">\n",
       "      <th></th>\n",
       "      <th>demand_id</th>\n",
       "      <th>demand</th>\n",
       "      <th>demand_name</th>\n",
       "      <th>demand_lat</th>\n",
       "      <th>demand_lng</th>\n",
       "      <th>supply_id</th>\n",
       "      <th>supply_lat</th>\n",
       "      <th>supply_lng</th>\n",
       "      <th>supply</th>\n",
       "      <th>supply_name</th>\n",
       "      <th>duration_min</th>\n",
       "      <th>distance_crowflies_km</th>\n",
       "      <th>distance_route_km</th>\n",
       "    </tr>\n",
       "  </thead>\n",
       "  <tbody>\n",
       "    <tr>\n",
       "      <th>0</th>\n",
       "      <td>0</td>\n",
       "      <td>100</td>\n",
       "      <td>demand0</td>\n",
       "      <td>54.194494</td>\n",
       "      <td>-0.476308</td>\n",
       "      <td>0</td>\n",
       "      <td>51.501109</td>\n",
       "      <td>-1.242375</td>\n",
       "      <td>100</td>\n",
       "      <td>supply0</td>\n",
       "      <td>304.044672</td>\n",
       "      <td>304.044672</td>\n",
       "      <td>304.044672</td>\n",
       "    </tr>\n",
       "    <tr>\n",
       "      <th>1</th>\n",
       "      <td>0</td>\n",
       "      <td>100</td>\n",
       "      <td>demand0</td>\n",
       "      <td>54.194494</td>\n",
       "      <td>-0.476308</td>\n",
       "      <td>1</td>\n",
       "      <td>52.849173</td>\n",
       "      <td>-1.242375</td>\n",
       "      <td>100</td>\n",
       "      <td>supply1</td>\n",
       "      <td>158.065220</td>\n",
       "      <td>158.065220</td>\n",
       "      <td>158.065220</td>\n",
       "    </tr>\n",
       "    <tr>\n",
       "      <th>2</th>\n",
       "      <td>0</td>\n",
       "      <td>100</td>\n",
       "      <td>demand0</td>\n",
       "      <td>54.194494</td>\n",
       "      <td>-0.476308</td>\n",
       "      <td>2</td>\n",
       "      <td>54.196930</td>\n",
       "      <td>-1.242375</td>\n",
       "      <td>0</td>\n",
       "      <td>supply2</td>\n",
       "      <td>49.985008</td>\n",
       "      <td>49.985008</td>\n",
       "      <td>49.985008</td>\n",
       "    </tr>\n",
       "    <tr>\n",
       "      <th>3</th>\n",
       "      <td>1</td>\n",
       "      <td>100</td>\n",
       "      <td>demand1</td>\n",
       "      <td>53.878081</td>\n",
       "      <td>-0.704790</td>\n",
       "      <td>0</td>\n",
       "      <td>51.501109</td>\n",
       "      <td>-1.242375</td>\n",
       "      <td>100</td>\n",
       "      <td>supply0</td>\n",
       "      <td>266.911066</td>\n",
       "      <td>266.911066</td>\n",
       "      <td>266.911066</td>\n",
       "    </tr>\n",
       "    <tr>\n",
       "      <th>4</th>\n",
       "      <td>1</td>\n",
       "      <td>100</td>\n",
       "      <td>demand1</td>\n",
       "      <td>53.878081</td>\n",
       "      <td>-0.704790</td>\n",
       "      <td>1</td>\n",
       "      <td>52.849173</td>\n",
       "      <td>-1.242375</td>\n",
       "      <td>100</td>\n",
       "      <td>supply1</td>\n",
       "      <td>119.934061</td>\n",
       "      <td>119.934061</td>\n",
       "      <td>119.934061</td>\n",
       "    </tr>\n",
       "    <tr>\n",
       "      <th>5</th>\n",
       "      <td>1</td>\n",
       "      <td>100</td>\n",
       "      <td>demand1</td>\n",
       "      <td>53.878081</td>\n",
       "      <td>-0.704790</td>\n",
       "      <td>2</td>\n",
       "      <td>54.196930</td>\n",
       "      <td>-1.242375</td>\n",
       "      <td>0</td>\n",
       "      <td>supply2</td>\n",
       "      <td>49.984325</td>\n",
       "      <td>49.984325</td>\n",
       "      <td>49.984325</td>\n",
       "    </tr>\n",
       "  </tbody>\n",
       "</table>\n",
       "</div>"
      ],
      "text/plain": [
       "   demand_id  demand demand_name  demand_lat  demand_lng  supply_id  \\\n",
       "0          0     100     demand0   54.194494   -0.476308          0   \n",
       "1          0     100     demand0   54.194494   -0.476308          1   \n",
       "2          0     100     demand0   54.194494   -0.476308          2   \n",
       "3          1     100     demand1   53.878081   -0.704790          0   \n",
       "4          1     100     demand1   53.878081   -0.704790          1   \n",
       "5          1     100     demand1   53.878081   -0.704790          2   \n",
       "\n",
       "   supply_lat  supply_lng  supply supply_name  duration_min  \\\n",
       "0   51.501109   -1.242375     100     supply0    304.044672   \n",
       "1   52.849173   -1.242375     100     supply1    158.065220   \n",
       "2   54.196930   -1.242375       0     supply2     49.985008   \n",
       "3   51.501109   -1.242375     100     supply0    266.911066   \n",
       "4   52.849173   -1.242375     100     supply1    119.934061   \n",
       "5   54.196930   -1.242375       0     supply2     49.984325   \n",
       "\n",
       "   distance_crowflies_km  distance_route_km  \n",
       "0             304.044672         304.044672  \n",
       "1             158.065220         158.065220  \n",
       "2              49.985008          49.985008  \n",
       "3             266.911066         266.911066  \n",
       "4             119.934061         119.934061  \n",
       "5              49.984325          49.984325  "
      ]
     },
     "execution_count": 13,
     "metadata": {},
     "output_type": "execute_result"
    }
   ],
   "source": [
    "# Calculate the crowflies distances for each combination\n",
    "all_combos = calculate_distances(all_combos, conn)\n",
    "all_combos.head(10)"
   ]
  },
  {
   "cell_type": "code",
   "execution_count": 14,
   "metadata": {
    "collapsed": false
   },
   "outputs": [],
   "source": [
    "# Save file to CSV\n",
    "path = dir + \"/qa_data_files/\" + str(output_name) + \".csv\"\n",
    "all_combos.to_csv(path, index=False)"
   ]
  }
 ],
 "metadata": {
  "anaconda-cloud": {},
  "kernelspec": {
   "display_name": "Python [default]",
   "language": "python",
   "name": "python3"
  },
  "language_info": {
   "codemirror_mode": {
    "name": "ipython",
    "version": 3
   },
   "file_extension": ".py",
   "mimetype": "text/x-python",
   "name": "python",
   "nbconvert_exporter": "python",
   "pygments_lexer": "ipython3",
   "version": "3.5.2"
  }
 },
 "nbformat": 4,
 "nbformat_minor": 0
}
